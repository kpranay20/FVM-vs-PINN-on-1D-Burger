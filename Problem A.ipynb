{
 "cells": [
  {
   "cell_type": "markdown",
   "id": "5bc16e53",
   "metadata": {},
   "source": [
    "# Viscous and 1D Burgers' Equation"
   ]
  },
  {
   "cell_type": "markdown",
   "id": "cdf4e5e5",
   "metadata": {},
   "source": [
    "## 1. Finite Volume Method (FVM):\n",
    "\n",
    "The spatial domain is divided into uniform cells of size $ \\Delta x $, and the time is advanced using explicit time stepping.\n",
    "\n",
    "####  Convective Term:  \n",
    "The convective flux is $ f(u) = \\frac{u^2}{2} $. We use a **Rusanov flux (local Lax-Friedrichs)** scheme for numerical stability:\n",
    "\n",
    "$$\n",
    "\\hat{f}_{j+1/2} = \\frac{1}{2} \\left[f(u_j) + f(u_{j+1})\\right] - \\frac{1}{2} \\alpha_{j+1/2} (u_{j+1} - u_j)\n",
    "$$\n",
    "\n",
    "where $\\alpha_{j+1/2} = \\max(|u_j|, |u_{j+1}|)$ is the local maximum wave speed.\n",
    "\n",
    "####  Diffusive Term:\n",
    "The diffusion is approximated using second-order central differences:\n",
    "\n",
    "$$\n",
    "\\frac{\\partial^2 u}{\\partial x^2} \\approx \\frac{u_{j+1} - 2u_j + u_{j-1}}{\\Delta x^2}\n",
    "$$\n",
    "\n",
    "####  Time Stepping:\n",
    "The timestep $ \\Delta t $ is chosen using the **CFL condition** for stability:\n",
    "\n",
    "$$\n",
    "\\Delta t = \\frac{\\text{CFL} \\cdot \\Delta x}{\\max(|u|, \\mu/\\Delta x)}\n",
    "$$\n",
    "\n",
    "#### Algorithm:\n",
    "At each time step:\n",
    "\n",
    "1. Compute fluxes $f(u) = \\frac{u^2}{2} $.\n",
    "\n",
    "2. Compute numerical fluxes $\\hat{f}_{j \\pm 1/2}$ using Rusanov's scheme.\n",
    "\n",
    "3. Compute diffusion using central differences.\n",
    "\n",
    "4. Update $u_j$ using the conservative form:\n",
    "   \n",
    "$$\n",
    "u_j^{n+1} = u_j^n - \\frac{\\Delta t}{\\Delta x} (\\hat{f}_{j+1/2} - \\hat{f}_{j-1/2}) + \\mu \\frac{\\Delta t}{\\Delta x^2} (u_{j+1} - 2u_j + u_{j-1})\n",
    "$$\n",
    "\n",
    "5. Apply Dirichlet boundary conditions $u(−6) = u(6) = 0$.\n",
    "\n",
    "6. Repeat until $t = t_\\text{end}$.\n"
   ]
  },
  {
   "cell_type": "code",
   "execution_count": 13,
   "id": "0e93f83c",
   "metadata": {},
   "outputs": [
    {
     "data": {
      "image/png": "[encoded data removed]",
      "text/plain": [
       "<Figure size 800x400 with 1 Axes>"
      ]
     },
     "metadata": {},
     "output_type": "display_data"
    }
   ],
   "source": [
    "import numpy as np\n",
    "import matplotlib.pyplot as plt\n",
    "\n",
    "# Parameters\n",
    "mu = 0.1           \n",
    "CFL = 0.4      \n",
    "delta_x = 0.01     \n",
    "nodes = 1200       \n",
    "t_end = 5.0        \n",
    "\n",
    "x = np.linspace(-6, 6, nodes + 1)\n",
    "\n",
    "u = np.exp(-x**2 / 2)\n",
    "t = 0.0\n",
    "\n",
    "while t < t_end:\n",
    "    \n",
    "    u_max = max(np.max(np.abs(u)), mu/delta_x)\n",
    "    delta_t = CFL * delta_x / u_max\n",
    "\n",
    "    f = u**2 / 2\n",
    "    unext = np.copy(u)\n",
    "\n",
    "    for j in range(1, nodes-2):\n",
    "        alpha_plus = max(abs(u[j]), abs(u[j + 1]))\n",
    "        f_hat_plus = 0.5 * (f[j] + f[j + 1]) - 0.5 * alpha_plus * (u[j + 1] - u[j])\n",
    "\n",
    "        alpha_minus = max(abs(u[j - 1]), abs(u[j]))\n",
    "        f_hat_minus = 0.5 * (f[j - 1] + f[j]) - 0.5 * alpha_minus * (u[j] - u[j - 1])\n",
    "\n",
    "        unext[j] = (\n",
    "            u[j]\n",
    "            - (delta_t / delta_x) * (f_hat_plus - f_hat_minus)\n",
    "            + (mu * delta_t / delta_x**2) * (u[j + 1] - 2 * u[j] + u[j - 1])\n",
    "        )\n",
    "\n",
    "#Dirichlet Boundary Condition:\n",
    "    unext[0] = 0.0       \n",
    "    unext[-1] = 0.0\n",
    "\n",
    "    u = unext.copy()\n",
    "    t += delta_t\n",
    "\n",
    "\n",
    "plt.figure(figsize=(8, 4))\n",
    "plt.plot(x, u, label=f\"t = {t:.2f}\")\n",
    "plt.xlabel(\"x\")\n",
    "plt.ylabel(\"u(x, t)\")\n",
    "plt.grid()\n",
    "plt.legend()\n",
    "plt.show()\n"
   ]
  },
  {
   "cell_type": "markdown",
   "id": "8e9b7f68",
   "metadata": {},
   "source": [
    "## 2. Physics-Informed Neural Networks (PINNs)\n",
    "\n",
    "\n",
    "Physics-Informed Neural Networks (PINNs) are a deep learning framework where neural networks are trained to satisfy physical laws described by partial differential equations (PDEs), rather than relying solely on data. They incorporate the **PDE**, **initial conditions**, and **boundary conditions** into the training loss function.\n",
    "\n",
    "This makes PINNs particularly powerful for solving forward or inverse problems involving differential equations, even with sparse or no training data.\n",
    "\n",
    "### PINN Architecture\n",
    "\n",
    "- Input: spatial and temporal coordinates \\( (x, t) \\)\n",
    "\n",
    "- Output: approximation \\( u(x, t) \\)\n",
    "\n",
    "- Network: Connected feedforward neural network (MLP) with `Tanh` activations. \n",
    "\n",
    "- Loss = PDE residual loss + Initial condition loss + Boundary condition loss\n",
    "\n"
   ]
  },
  {
   "cell_type": "code",
   "execution_count": 8,
   "id": "e72b5061",
   "metadata": {},
   "outputs": [
    {
     "name": "stdout",
     "output_type": "stream",
     "text": [
      "Using device: cuda\n"
     ]
    }
   ],
   "source": [
    "import torch\n",
    "import torch.nn as nn\n",
    "import numpy as np\n",
    "import matplotlib.pyplot as plt\n",
    "\n",
    "torch.set_default_dtype(torch.float)\n",
    "device = torch.device('cuda' if torch.cuda.is_available() else 'cpu')\n",
    "print(f\"Using device: {device}\")\n",
    "\n",
    "class PINN(nn.Module):\n",
    "    def __init__(self, layers):\n",
    "        super(PINN, self).__init__()\n",
    "        self.net = nn.Sequential()\n",
    "        for i in range(len(layers) - 1):\n",
    "            self.net.add_module(f\"layer_{i}\", nn.Linear(layers[i], layers[i+1]))\n",
    "            if i != len(layers) - 2:\n",
    "                self.net.add_module(f\"tanh_{i}\", nn.Tanh())\n",
    "\n",
    "    def forward(self, x, t):\n",
    "        inputs = torch.cat([x, t], dim=1)\n",
    "        return self.net(inputs)\n"
   ]
  },
  {
   "cell_type": "markdown",
   "id": "890ab413",
   "metadata": {},
   "source": [
    "### Loss Components\n",
    "\n",
    "The total loss function is a weighted sum of three parts:\n",
    "\n",
    "#### 1. **PDE Residual Loss**\n",
    "This ensures that the neural network output satisfies the Burgers’ equation at randomly sampled **collocation points**:\n",
    "\n",
    "$$\n",
    "\\mathcal{L}_{\\text{PDE}} = \\left\\| \\frac{\\partial u}{\\partial t} + u \\frac{\\partial u}{\\partial x} - \\mu \\frac{\\partial^2 u}{\\partial x^2} \\right\\|^2\n",
    "$$\n",
    "\n",
    "\n"
   ]
  },
  {
   "cell_type": "code",
   "execution_count": 9,
   "id": "70d5d56c",
   "metadata": {},
   "outputs": [],
   "source": [
    "def pde_residual(model, x, t, mu):\n",
    "    x.requires_grad_(True)\n",
    "    t.requires_grad_(True)\n",
    "    u = model(x, t)\n",
    "\n",
    "    u_t = torch.autograd.grad(u, t, grad_outputs=torch.ones_like(u), create_graph=True)[0]\n",
    "    u_x = torch.autograd.grad(u, x, grad_outputs=torch.ones_like(u), create_graph=True)[0]\n",
    "    u_xx = torch.autograd.grad(u_x, x, grad_outputs=torch.ones_like(u), create_graph=True)[0]\n",
    "\n",
    "    return u_t + u * u_x - mu * u_xx\n",
    "\n",
    "#Parameters\n",
    "mu = 0.1\n",
    "layers = [2, 64, 64, 64, 1]\n",
    "model = PINN(layers).to(device)\n",
    "optimizer = torch.optim.Adam(model.parameters(), lr=1e-3)\n",
    "\n"
   ]
  },
  {
   "cell_type": "markdown",
   "id": "bc3f8084",
   "metadata": {},
   "source": [
    "#### 2. **Initial Condition Loss**\n",
    "The initial condition:\n",
    "\n",
    "$$\n",
    "u(x, 0) = e^{-x^2 / 2}\n",
    "$$\n",
    "\n",
    "is a Gaussian pulse.\n",
    "\n",
    "#### 3. **Boundary Condition Loss**\n",
    "Dirichlet boundary conditions:\n",
    "\n",
    "$$\n",
    "u(-6, t) = u(6, t) = 0\n",
    "$$"
   ]
  },
  {
   "cell_type": "code",
   "execution_count": 10,
   "id": "726cd4be",
   "metadata": {},
   "outputs": [],
   "source": [
    "#Collocation points (interior of the domain)\n",
    "N_f = 10000\n",
    "x_f = torch.FloatTensor(N_f, 1).uniform_(-6, 6).to(device)\n",
    "t_f = torch.FloatTensor(N_f, 1).uniform_(0, 5).to(device)\n",
    "\n",
    "#Initial condition\n",
    "N_ic = 200\n",
    "x_ic = torch.linspace(-6, 6, N_ic).reshape(-1, 1).to(device)\n",
    "t_ic = torch.zeros_like(x_ic)\n",
    "u_ic = torch.exp(-((x_ic)**2)/2)\n",
    "\n",
    "#Boundary conditions\n",
    "N_bc = 200\n",
    "t_bc = torch.linspace(0, 5, N_bc).reshape(-1, 1).to(device)\n",
    "x_bc0 = -6 * torch.ones_like(t_bc)\n",
    "x_bc1 =  6 * torch.ones_like(t_bc)\n",
    "u_bc0 = torch.zeros_like(x_bc0)\n",
    "u_bc1 = torch.zeros_like(x_bc1)"
   ]
  },
  {
   "cell_type": "markdown",
   "id": "67dc7b1e",
   "metadata": {},
   "source": [
    "### Training\n",
    "\n",
    "- **Collocation Points:** Randomly sampled in the interior of the spatio-temporal domain.\n",
    "\n",
    "- **Initial Condition Points:** Uniformly sampled in space at $t = 0$.\n",
    "\n",
    "- **Boundary Points:** Sampled in time at $x = -6$ and $x = 6$.\n",
    "\n",
    "- **Optimizer:** Adam with learning rate $10^{-3}$.\n",
    "\n",
    "- **Device:** GPU if available, otherwise CPU.\n",
    "\n",
    "The neural network learns to satisfy the PDE and the initial/boundary conditions **without any labeled data** on the solution.\n",
    "\n"
   ]
  },
  {
   "cell_type": "code",
   "execution_count": 11,
   "id": "6b6cac29",
   "metadata": {},
   "outputs": [
    {
     "name": "stdout",
     "output_type": "stream",
     "text": [
      "Epoch 0, Loss: 0.13493\n",
      "Epoch 500, Loss: 0.00070\n",
      "Epoch 1000, Loss: 0.00019\n",
      "Epoch 1500, Loss: 0.00005\n",
      "Epoch 2000, Loss: 0.00003\n",
      "Epoch 2500, Loss: 0.00002\n",
      "Epoch 3000, Loss: 0.00001\n",
      "Epoch 3500, Loss: 0.00001\n",
      "Epoch 4000, Loss: 0.00001\n",
      "Epoch 4500, Loss: 0.00001\n"
     ]
    }
   ],
   "source": [
    "#Training\n",
    "for epoch in range(5000):\n",
    "    optimizer.zero_grad()\n",
    "\n",
    "    #PDE loss (collocation points)\n",
    "    f = pde_residual(model, x_f, t_f, mu)\n",
    "    loss_f = torch.mean(f**2)\n",
    "\n",
    "    #Initial condition loss\n",
    "    u_pred_ic = model(x_ic, t_ic)\n",
    "    loss_ic = torch.mean((u_pred_ic - u_ic)**2)\n",
    "\n",
    "    #Boundary condition loss\n",
    "    u_pred_bc0 = model(x_bc0, t_bc)\n",
    "    u_pred_bc1 = model(x_bc1, t_bc)\n",
    "    loss_bc = torch.mean((u_pred_bc0 - u_bc0)**2) + torch.mean((u_pred_bc1 - u_bc1)**2)\n",
    "\n",
    "    #Total loss\n",
    "    loss = loss_f + loss_ic + loss_bc\n",
    "    loss.backward()\n",
    "    optimizer.step()\n",
    "\n",
    "    if epoch % 500 == 0:\n",
    "        print(f\"Epoch {epoch}, Loss: {loss.item():.5f}\")"
   ]
  },
  {
   "cell_type": "markdown",
   "id": "7899cb6b",
   "metadata": {},
   "source": [
    "### Output\n",
    "\n",
    "After training, the predicted solution \\( u(x, 5.0) \\) is plotted to check the evolution of the initial Gaussian pulse.\n"
   ]
  },
  {
   "cell_type": "code",
   "execution_count": 12,
   "id": "e67181ab",
   "metadata": {},
   "outputs": [
    {
     "data": {
      "image/png": "[encoded data removed]",
      "text/plain": [
       "<Figure size 800x400 with 1 Axes>"
      ]
     },
     "metadata": {},
     "output_type": "display_data"
    }
   ],
   "source": [
    "#u at t = 5\n",
    "x_plot = torch.linspace(-6, 6, 200).reshape(-1, 1).to(device)\n",
    "t_plot = 5.0 * torch.ones_like(x_plot)\n",
    "u_plot = model(x_plot, t_plot).detach().cpu().numpy()\n",
    "\n",
    "plt.figure(figsize=(8, 4))\n",
    "plt.plot(x_plot.cpu().numpy(), u_plot, label='u(x, t=5.0)')\n",
    "plt.title('Viscous Burgers Equation Solution at t = 5.0')\n",
    "plt.xlabel('x')\n",
    "plt.ylabel('u')\n",
    "plt.grid(True)\n",
    "plt.legend()\n",
    "plt.show()"
   ]
  },
  {
   "cell_type": "markdown",
   "id": "dd748234",
   "metadata": {},
   "source": []
  }
 ],
 "metadata": {
  "kernelspec": {
   "display_name": "base10",
   "language": "python",
   "name": "python3"
  },
  "language_info": {
   "codemirror_mode": {
    "name": "ipython",
    "version": 3
   },
   "file_extension": ".py",
   "mimetype": "text/x-python",
   "name": "python",
   "nbconvert_exporter": "python",
   "pygments_lexer": "ipython3",
   "version": "3.10.18"
  }
 },
 "nbformat": 4,
 "nbformat_minor": 5
}
